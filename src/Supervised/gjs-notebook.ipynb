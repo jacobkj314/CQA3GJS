{
 "cells": [
  {
   "cell_type": "code",
   "execution_count": 1,
   "metadata": {},
   "outputs": [
    {
     "name": "stderr",
     "output_type": "stream",
     "text": [
      "/home/jacob/.local/lib/python3.8/site-packages/tqdm/auto.py:22: TqdmWarning: IProgress not found. Please update jupyter and ipywidgets. See https://ipywidgets.readthedocs.io/en/stable/user_install.html\n",
      "  from .autonotebook import tqdm as notebook_tqdm\n"
     ]
    }
   ],
   "source": [
    "import torch\n",
    "from torch import tensor"
   ]
  },
  {
   "cell_type": "code",
   "execution_count": 2,
   "metadata": {},
   "outputs": [],
   "source": [
    "from math import log"
   ]
  },
  {
   "cell_type": "code",
   "execution_count": 3,
   "metadata": {},
   "outputs": [],
   "source": [
    "# manual methods\n",
    "listmean = lambda A,B : [(a+b)/2 for a,b in zip(A,B)]\n",
    "\n",
    "kl = lambda P,Q : sum(p * (log(p/q) if p!=0 and q!=0 else 0) for p,q in zip(P,Q))"
   ]
  },
  {
   "cell_type": "code",
   "execution_count": 4,
   "metadata": {},
   "outputs": [],
   "source": [
    "#torch methods\n",
    "\n",
    "from torch.nn import functional as F\n",
    "from torch.nn.functional import kl_div\n",
    "\n",
    "kl_torch = lambda p,q : kl_div(tensor([q]).log(), tensor([p]), reduction='batchmean')"
   ]
  },
  {
   "cell_type": "code",
   "execution_count": 5,
   "metadata": {},
   "outputs": [],
   "source": [
    "q1 = [.05, .2, .4, .35]\n",
    "q2 = [.3, .3, .3, .1]\n",
    "y = [0,0,1,0]"
   ]
  },
  {
   "cell_type": "code",
   "execution_count": 6,
   "metadata": {},
   "outputs": [],
   "source": [
    "def test_kl(p,q):\n",
    "    print(f'via torch: {kl_torch(p,q)}')\n",
    "    print(f'via my code: {kl(p,q)}')"
   ]
  },
  {
   "cell_type": "code",
   "execution_count": 7,
   "metadata": {},
   "outputs": [
    {
     "name": "stdout",
     "output_type": "stream",
     "text": [
      "via torch: inf\n",
      "via my code: -0.366516292749662\n"
     ]
    }
   ],
   "source": [
    "test_kl(q1,y)"
   ]
  },
  {
   "cell_type": "code",
   "execution_count": 8,
   "metadata": {},
   "outputs": [
    {
     "name": "stdout",
     "output_type": "stream",
     "text": [
      "via torch: 0.9162907004356384\n",
      "via my code: 0.9162907318741551\n"
     ]
    }
   ],
   "source": [
    "test_kl(y,q1)"
   ]
  },
  {
   "cell_type": "code",
   "execution_count": 9,
   "metadata": {},
   "outputs": [],
   "source": [
    "# JS"
   ]
  },
  {
   "cell_type": "code",
   "execution_count": 10,
   "metadata": {},
   "outputs": [],
   "source": [
    "def js(p1,p2):\n",
    "    m = listmean(p1,p2)\n",
    "    return .5*(kl(p1,m) + kl(p2,m))"
   ]
  },
  {
   "cell_type": "code",
   "execution_count": 11,
   "metadata": {},
   "outputs": [],
   "source": [
    "def js_div(p_1, p_2, reduction = 'batchmean', log_target = False, pi = .5):\n",
    "    m = pi * p_1 + (1-pi) * p_2; #print(f'    m of {p_1} and {p_2} is {m}')\n",
    "    pi_kl_input_m = pi * F.kl_div(m.log(), p_1, reduction=reduction, log_target=log_target); #print(f'    kl({p_1}||{m}) times {pi} is {pi_kl_input_m}')\n",
    "    onepi_kl_target_m = (1-pi) * F.kl_div(m.log(), p_2, reduction=reduction, log_target=log_target); #print(f'    kl({p_2}||{m}) times {1-pi} is {onepi_kl_target_m}')\n",
    "    return pi_kl_input_m + onepi_kl_target_m"
   ]
  },
  {
   "cell_type": "code",
   "execution_count": 12,
   "metadata": {},
   "outputs": [],
   "source": [
    "js_torch = lambda p,q : js_div(tensor([p]), tensor([q]))"
   ]
  },
  {
   "cell_type": "code",
   "execution_count": 13,
   "metadata": {},
   "outputs": [],
   "source": [
    "def test_js(p,q):\n",
    "    print(f'via torch: {js_torch(p,q)}')\n",
    "    print(f'via my code: {js(p,q)}')"
   ]
  },
  {
   "cell_type": "code",
   "execution_count": 14,
   "metadata": {},
   "outputs": [
    {
     "name": "stdout",
     "output_type": "stream",
     "text": [
      "via torch: 0.09492215514183044\n",
      "via my code: 0.09492217667402233\n"
     ]
    }
   ],
   "source": [
    "test_js(q1,q2)"
   ]
  },
  {
   "cell_type": "code",
   "execution_count": 15,
   "metadata": {},
   "outputs": [
    {
     "name": "stdout",
     "output_type": "stream",
     "text": [
      "via torch: 0.09492215514183044\n",
      "via my code: 0.09492217667402233\n"
     ]
    }
   ],
   "source": [
    "test_js(q2,q1)"
   ]
  },
  {
   "cell_type": "code",
   "execution_count": 16,
   "metadata": {},
   "outputs": [],
   "source": [
    "# GJS"
   ]
  },
  {
   "cell_type": "code",
   "execution_count": 17,
   "metadata": {},
   "outputs": [],
   "source": [
    "gjs = lambda p1,p2,y : js(y, [(p+q)/2 for p,q in zip(p1,p2)]) + js(p1,p2)/2"
   ]
  },
  {
   "cell_type": "code",
   "execution_count": 25,
   "metadata": {},
   "outputs": [],
   "source": [
    "from ceUtils import GJSDivLoss\n",
    "\n",
    "gjs_torch = lambda p1,p2,y : GJSDivLoss()(tensor([p1]), tensor([p2]), tensor([y]))"
   ]
  },
  {
   "cell_type": "code",
   "execution_count": 26,
   "metadata": {},
   "outputs": [],
   "source": [
    "def test_gjs(q1,q2,y):\n",
    "    print(f'via torch: {gjs_torch(q1,q2,y)}')\n",
    "    print(f'via my code: {gjs(q1,q2,y)}')"
   ]
  },
  {
   "cell_type": "code",
   "execution_count": 27,
   "metadata": {},
   "outputs": [
    {
     "name": "stdout",
     "output_type": "stream",
     "text": [
      "(p1 + p2)/2 = tensor([[0.1750, 0.2500, 0.3500, 0.2250]])\n",
      "1-pi = 0.5\n",
      "    m of tensor([[0, 0, 1, 0]]) and tensor([[0.1750, 0.2500, 0.3500, 0.2250]]) is tensor([[0.0875, 0.1250, 0.6750, 0.1125]])\n",
      "    kl(tensor([[0, 0, 1, 0]])||tensor([[0.0875, 0.1250, 0.6750, 0.1125]])) times 0.5 is 0.19652128219604492\n",
      "    kl(tensor([[0.1750, 0.2500, 0.3500, 0.2250]])||tensor([[0.0875, 0.1250, 0.6750, 0.1125]])) times 0.5 is 0.11033640801906586\n",
      "js_pi(y, (p1+p2)/2) = 0.306857705116272\n",
      "    m of tensor([[0.0500, 0.2000, 0.4000, 0.3500]]) and tensor([[0.3000, 0.3000, 0.3000, 0.1000]]) is tensor([[0.1750, 0.2500, 0.3500, 0.2250]])\n",
      "    kl(tensor([[0.0500, 0.2000, 0.4000, 0.3500]])||tensor([[0.1750, 0.2500, 0.3500, 0.2250]])) times 0.5 is 0.05039357393980026\n",
      "    kl(tensor([[0.3000, 0.3000, 0.3000, 0.1000]])||tensor([[0.1750, 0.2500, 0.3500, 0.2250]])) times 0.5 is 0.04452858120203018\n",
      "js_.5(p1, p2) * (1-pi) = 0.04746107757091522\n",
      "via torch: 0.3543187975883484\n",
      "via my code: 0.35431879720570963\n"
     ]
    }
   ],
   "source": [
    "test_gjs(q1,q2,y)"
   ]
  },
  {
   "cell_type": "code",
   "execution_count": 24,
   "metadata": {},
   "outputs": [
    {
     "data": {
      "text/plain": [
       "tensor(0.0491)"
      ]
     },
     "execution_count": 24,
     "metadata": {},
     "output_type": "execute_result"
    }
   ],
   "source": [
    "kl_torch([0,0,1,0],[.0875,.125,.675,.1125])"
   ]
  },
  {
   "cell_type": "code",
   "execution_count": null,
   "metadata": {},
   "outputs": [],
   "source": []
  }
 ],
 "metadata": {
  "kernelspec": {
   "display_name": "38b",
   "language": "python",
   "name": "python3"
  },
  "language_info": {
   "codemirror_mode": {
    "name": "ipython",
    "version": 3
   },
   "file_extension": ".py",
   "mimetype": "text/x-python",
   "name": "python",
   "nbconvert_exporter": "python",
   "pygments_lexer": "ipython3",
   "version": "3.8.16"
  },
  "orig_nbformat": 4
 },
 "nbformat": 4,
 "nbformat_minor": 2
}
